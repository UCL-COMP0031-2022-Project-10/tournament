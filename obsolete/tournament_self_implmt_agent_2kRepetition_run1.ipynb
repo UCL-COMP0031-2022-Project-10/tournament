{
 "cells": [
  {
   "cell_type": "code",
   "execution_count": null,
   "metadata": {},
   "outputs": [],
   "source": [
    "# the notebook is adopted from tournament-example-1.py"
   ]
  },
  {
   "cell_type": "code",
   "execution_count": 1,
   "metadata": {},
   "outputs": [],
   "source": [
    "from tournament.agents.agents import AGENTS\n",
    "from tournament.tournament import RoundRobinTournament\n",
    "\n",
    "tournament = RoundRobinTournament(AGENTS)"
   ]
  },
  {
   "cell_type": "code",
   "execution_count": 2,
   "metadata": {},
   "outputs": [
    {
     "name": "stderr",
     "output_type": "stream",
     "text": [
      "100%|██████████| 625/625 [11:29<00:00,  1.10s/matches]\n"
     ]
    }
   ],
   "source": [
    "scores, times = tournament.play(\n",
    "    continuation_probability=0.99654, repetitions=2000, jobs=12\n",
    ")"
   ]
  },
  {
   "cell_type": "code",
   "execution_count": 3,
   "metadata": {},
   "outputs": [],
   "source": [
    "results = [\n",
    "    (agent, round(sum(scores[agent]) / len(scores[agent])), sum(times[agent]))\n",
    "    for agent in scores\n",
    "]\n",
    "results.sort(key=lambda x: x[1], reverse=True)"
   ]
  },
  {
   "cell_type": "code",
   "execution_count": 4,
   "metadata": {},
   "outputs": [
    {
     "name": "stdout",
     "output_type": "stream",
     "text": [
      "Borufsen                       845                  430.88227199999994  \n",
      "Weiner                 845                  1190.756071         \n",
      "OmegaTFT                       843                  429.86722299999997  \n",
      "TTFT                           843                  383.3815600000001   \n",
      "SteinAndRapoport               843                  1725.7450670000005  \n",
      "GraaskampAndKatzen        842                  393.488878          \n",
      "TidemanAndChieruzzi            841                  482.21843799999994  \n",
      "Champion                       840                  1200.6025229999996  \n",
      "TitForTat                      839                  332.269056          \n",
      "White              834                  399.4182109999999   \n",
      "Leyvraz                        833                  1298.358816         \n",
      "Grudger                        829                  360.919409          \n",
      "SecondByBlackK83R              829                  525.555208          \n",
      "Shubik                         828                  362.385419          \n",
      "TidemanAndChieruzzi2    828                  476.7164249999999   \n",
      "GenerousTFT                    826                  358.2019929999999   \n",
      "Grofman                        826                  336.305211          \n",
      "Davis                          824                  606.529359          \n",
      "Pavlov                         823                  349.205569          \n",
      "TFTT                           821                  363.823556          \n",
      "Nydegger                       811                  504.4842050000001   \n",
      "AllC                           804                  330.68347400000005  \n",
      "Harrington             751                  669.3022239999999   \n",
      "RandomAgent                    498                  922.714777          \n",
      "AllD                           479                  1434.2275819999998  \n"
     ]
    }
   ],
   "source": [
    "for c, score, time in results:\n",
    "    print(f\"{c.__name__:<30} {score:<20} {time:<20}\")"
   ]
  },
  {
   "cell_type": "code",
   "execution_count": null,
   "metadata": {},
   "outputs": [],
   "source": [
    "# conclusion drawn from 4000+ repetition: the following agents implemented by our team is the top-5\n",
    "# TTFT\n",
    "# SteinAndRapoport\n",
    "# OmegaTFT\n",
    "# Weiner\n",
    "# Borufsen"
   ]
  }
 ],
 "metadata": {
  "interpreter": {
   "hash": "24a1ea954044c4f2d6e5c9c90b7867b351f6ffed6e2b222eec27b184b021ebe1"
  },
  "kernelspec": {
   "display_name": "Python 3.9.7 64-bit ('base': conda)",
   "name": "python3"
  },
  "language_info": {
   "codemirror_mode": {
    "name": "ipython",
    "version": 3
   },
   "file_extension": ".py",
   "mimetype": "text/x-python",
   "name": "python",
   "nbconvert_exporter": "python",
   "pygments_lexer": "ipython3",
   "version": "3.9.10"
  },
  "orig_nbformat": 4
 },
 "nbformat": 4,
 "nbformat_minor": 2
}
