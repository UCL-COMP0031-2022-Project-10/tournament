{
 "cells": [
  {
   "cell_type": "code",
   "execution_count": null,
   "metadata": {},
   "outputs": [],
   "source": [
    "# the notebook is adopted from tournament-example-1.py"
   ]
  },
  {
   "cell_type": "code",
   "execution_count": 1,
   "metadata": {},
   "outputs": [],
   "source": [
    "from tournament.agents.agents import AGENTS\n",
    "from tournament.tournament import RoundRobinTournament\n",
    "\n",
    "tournament = RoundRobinTournament(AGENTS)"
   ]
  },
  {
   "cell_type": "code",
   "execution_count": 2,
   "metadata": {},
   "outputs": [
    {
     "name": "stderr",
     "output_type": "stream",
     "text": [
      "100%|██████████| 625/625 [11:36<00:00,  1.11s/matches]\n"
     ]
    }
   ],
   "source": [
    "scores, times = tournament.play(\n",
    "    continuation_probability=0.99654, repetitions=2000, jobs=12\n",
    ")"
   ]
  },
  {
   "cell_type": "code",
   "execution_count": 3,
   "metadata": {},
   "outputs": [],
   "source": [
    "results = [\n",
    "    (agent, round(sum(scores[agent]) / len(scores[agent])), sum(times[agent]))\n",
    "    for agent in scores\n",
    "]\n",
    "results.sort(key=lambda x: x[1], reverse=True)"
   ]
  },
  {
   "cell_type": "code",
   "execution_count": 4,
   "metadata": {},
   "outputs": [
    {
     "name": "stdout",
     "output_type": "stream",
     "text": [
      "TTFT                           846                  384.1785570000002   \n",
      "SteinAndRapoport               846                  1747.9247990000006  \n",
      "OmegaTFT                       845                  432.0008889999998   \n",
      "SecondByWeiner                 844                  1187.402914         \n",
      "Borufsen                       843                  434.332207          \n",
      "SecondByGraaskampKatzen        843                  394.48687500000005  \n",
      "TidemanAndChieruzzi            839                  487.3377629999999   \n",
      "SecondByWhiteK72R              835                  402.42572099999995  \n",
      "SecondByBlackK83R              835                  535.26234           \n",
      "TitForTat                      834                  338.790993          \n",
      "Champion                       834                  1214.1524599999998  \n",
      "GenerousTFT                    832                  361.16598899999997  \n",
      "Leyvraz                        831                  1319.582974         \n",
      "Grofman                        830                  341.3579250000001   \n",
      "Shubik                         826                  364.193333          \n",
      "TFTT                           824                  363.93551000000014  \n",
      "Davis                          823                  613.2646500000001   \n",
      "SecondByTidemanAndChieruzzi    823                  477.74387899999994  \n",
      "Pavlov                         821                  356.06192           \n",
      "Grudger                        821                  359.7439699999999   \n",
      "Nydegger                       808                  509.183099          \n",
      "AllC                           802                  324.6344470000001   \n",
      "SecondByHarrington             750                  674.4542529999999   \n",
      "RandomAgent                    499                  946.9204220000001   \n",
      "AllD                           476                  1468.126651         \n"
     ]
    }
   ],
   "source": [
    "for c, score, time in results:\n",
    "    print(f\"{c.__name__:<30} {score:<20} {time:<20}\")"
   ]
  },
  {
   "cell_type": "code",
   "execution_count": null,
   "metadata": {},
   "outputs": [],
   "source": [
    "# conclusion drawn from 4000+ repetition: the following agents implemented by our team is the top-5\n",
    "# TTFT\n",
    "# SteinAndRapoport \n",
    "# OmegaTFT             \n",
    "# SecondByWeiner   \n",
    "# Borufsen       "
   ]
  }
 ],
 "metadata": {
  "interpreter": {
   "hash": "24a1ea954044c4f2d6e5c9c90b7867b351f6ffed6e2b222eec27b184b021ebe1"
  },
  "kernelspec": {
   "display_name": "Python 3.9.7 64-bit ('base': conda)",
   "name": "python3"
  },
  "language_info": {
   "codemirror_mode": {
    "name": "ipython",
    "version": 3
   },
   "file_extension": ".py",
   "mimetype": "text/x-python",
   "name": "python",
   "nbconvert_exporter": "python",
   "pygments_lexer": "ipython3",
   "version": "3.9.10"
  },
  "orig_nbformat": 4
 },
 "nbformat": 4,
 "nbformat_minor": 2
}
