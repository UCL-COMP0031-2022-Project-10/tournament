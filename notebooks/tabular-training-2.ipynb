{
 "cells": [
  {
   "cell_type": "code",
   "execution_count": 1,
   "metadata": {},
   "outputs": [],
   "source": [
    "import matplotlib.pyplot as plt\n",
    "import numpy as np\n",
    "import torch\n",
    "import torch.nn as nn\n",
    "\n",
    "from tournament.agents.agents import AGENTS\n",
    "from tournament.agents.axelrod_first import (\n",
    "    Davis,\n",
    "    Downing,\n",
    "    Feld,\n",
    "    Grofman,\n",
    "    Grudger,\n",
    "    Joss,\n",
    "    Nydegger,\n",
    "    Shubik,\n",
    "    SteinAndRapoport,\n",
    "    TidemanAndChieruzzi,\n",
    "    Tullock,\n",
    ")\n",
    "from tournament.agents.constant import AllC, AllD\n",
    "from tournament.agents.pavlov import Pavlov\n",
    "from tournament.agents.q_learning.tabular import TabularQLearner\n",
    "from tournament.agents.tft import (\n",
    "    TFTT,\n",
    "    TTFT,\n",
    "    GenerousTFT,\n",
    "    GradualTFT,\n",
    "    OmegaTFT,\n",
    "    TitForTat,\n",
    ")\n",
    "from tournament.environments.multiple import MultipleRuleBasedAgentEnvironment\n",
    "from tournament.environments.single import SingleRuleBasedAgentEnvironment\n",
    "from tournament.tournament import RoundRobinTournament\n",
    "\n",
    "# plt.rcParams[\"figure.figsize\"] = (20, 12)\n",
    "plt.rcParams[\"figure.figsize\"] = (10, 6)\n"
   ]
  },
  {
   "cell_type": "code",
   "execution_count": 2,
   "metadata": {},
   "outputs": [],
   "source": [
    "# env = SingleRuleBasedAgentEnvironment(TitForTat)\n",
    "env = MultipleRuleBasedAgentEnvironment([\n",
    "    TitForTat,\n",
    "    # AllC,\n",
    "    # TFTT,\n",
    "    # TTFT,\n",
    "    # GenerousTFT,\n",
    "    # GradualTFT,\n",
    "    OmegaTFT,\n",
    "])"
   ]
  },
  {
   "cell_type": "code",
   "execution_count": 3,
   "metadata": {},
   "outputs": [],
   "source": [
    "class TabularLearnerTest(TabularQLearner):\n",
    "    def __init__(self):\n",
    "        super().__init__()\n",
    "        self._lookback = 5\n",
    "        self._epsilon = 0.2\n",
    "\n",
    "agent = TabularLearnerTest()"
   ]
  },
  {
   "cell_type": "code",
   "execution_count": 4,
   "metadata": {},
   "outputs": [
    {
     "name": "stdout",
     "output_type": "stream",
     "text": [
      "[17:01:16] Commencement of training.\n",
      "[17:01:17] Completed epoch 1: None\n",
      "[17:01:17] Completed epoch 2: None\n",
      "[17:01:18] Completed epoch 3: None\n",
      "[17:01:19] Completed epoch 4: None\n",
      "[17:01:19] Completed epoch 5: None\n",
      "[17:01:20] Completed epoch 6: None\n",
      "[17:01:21] Completed epoch 7: None\n",
      "[17:01:22] Completed epoch 8: None\n",
      "[17:01:23] Completed epoch 9: None\n",
      "[17:01:23] Completed epoch 10: None\n",
      "[17:01:24] Completed epoch 11: None\n",
      "[17:01:25] Completed epoch 12: None\n",
      "[17:01:25] Completed epoch 13: None\n",
      "[17:01:26] Completed epoch 14: None\n",
      "[17:01:26] Completed epoch 15: None\n",
      "[17:01:27] Completed epoch 16: None\n",
      "[17:01:28] Completed epoch 17: None\n",
      "[17:01:28] Completed epoch 18: None\n",
      "[17:01:29] Completed epoch 19: None\n",
      "[17:01:30] Completed epoch 20: None\n",
      "[17:01:31] Completed epoch 21: None\n",
      "[17:01:31] Completed epoch 22: None\n",
      "[17:01:32] Completed epoch 23: None\n",
      "[17:01:32] Completed epoch 24: None\n",
      "[17:01:33] Completed epoch 25: None\n",
      "[17:01:34] Completed epoch 26: None\n",
      "[17:01:34] Completed epoch 27: None\n",
      "[17:01:35] Completed epoch 28: None\n",
      "[17:01:36] Completed epoch 29: None\n",
      "[17:01:36] Completed epoch 30: None\n",
      "[17:01:37] Completed epoch 31: None\n",
      "[17:01:37] Completed epoch 32: None\n",
      "[17:01:38] Completed epoch 33: None\n",
      "[17:01:38] Completed epoch 34: None\n",
      "[17:01:39] Completed epoch 35: None\n",
      "[17:01:39] Completed epoch 36: None\n",
      "[17:01:40] Completed epoch 37: None\n",
      "[17:01:40] Completed epoch 38: None\n",
      "[17:01:41] Completed epoch 39: None\n",
      "[17:01:41] Completed epoch 40: None\n",
      "[17:01:42] Completed epoch 41: None\n",
      "[17:01:42] Completed epoch 42: None\n",
      "[17:01:43] Completed epoch 43: None\n",
      "[17:01:43] Completed epoch 44: None\n",
      "[17:01:44] Completed epoch 45: None\n",
      "[17:01:45] Completed epoch 46: None\n",
      "[17:01:46] Completed epoch 47: None\n",
      "[17:01:46] Completed epoch 48: None\n",
      "[17:01:47] Completed epoch 49: None\n",
      "[17:01:47] Completed epoch 50: None\n",
      "[17:01:48] Completed epoch 51: None\n",
      "[17:01:49] Completed epoch 52: None\n",
      "[17:01:49] Completed epoch 53: None\n",
      "[17:01:50] Completed epoch 54: None\n",
      "[17:01:51] Completed epoch 55: None\n",
      "[17:01:51] Completed epoch 56: None\n",
      "[17:01:52] Completed epoch 57: None\n",
      "[17:01:52] Completed epoch 58: None\n",
      "[17:01:53] Completed epoch 59: None\n",
      "[17:01:53] Completed epoch 60: None\n",
      "[17:01:54] Completed epoch 61: None\n",
      "[17:01:54] Completed epoch 62: None\n",
      "[17:01:55] Completed epoch 63: None\n",
      "[17:01:55] Completed epoch 64: None\n",
      "[17:01:56] Completed epoch 65: None\n",
      "[17:01:56] Completed epoch 66: None\n",
      "[17:01:57] Completed epoch 67: None\n",
      "[17:01:57] Completed epoch 68: None\n",
      "[17:01:58] Completed epoch 69: None\n",
      "[17:01:58] Completed epoch 70: None\n",
      "[17:01:59] Completed epoch 71: None\n",
      "[17:01:59] Completed epoch 72: None\n",
      "[17:02:00] Completed epoch 73: None\n",
      "[17:02:00] Completed epoch 74: None\n",
      "[17:02:01] Completed epoch 75: None\n",
      "[17:02:01] Completed epoch 76: None\n",
      "[17:02:02] Completed epoch 77: None\n",
      "[17:02:02] Completed epoch 78: None\n",
      "[17:02:03] Completed epoch 79: None\n",
      "[17:02:03] Completed epoch 80: None\n",
      "[17:02:04] Completed epoch 81: None\n",
      "[17:02:04] Completed epoch 82: None\n",
      "[17:02:05] Completed epoch 83: None\n",
      "[17:02:05] Completed epoch 84: None\n",
      "[17:02:06] Completed epoch 85: None\n",
      "[17:02:06] Completed epoch 86: None\n",
      "[17:02:07] Completed epoch 87: None\n",
      "[17:02:07] Completed epoch 88: None\n",
      "[17:02:08] Completed epoch 89: None\n",
      "[17:02:09] Completed epoch 90: None\n",
      "[17:02:09] Completed epoch 91: None\n",
      "[17:02:10] Completed epoch 92: None\n",
      "[17:02:11] Completed epoch 93: None\n",
      "[17:02:11] Completed epoch 94: None\n",
      "[17:02:12] Completed epoch 95: None\n",
      "[17:02:12] Completed epoch 96: None\n",
      "[17:02:13] Completed epoch 97: None\n",
      "[17:02:14] Completed epoch 98: None\n",
      "[17:02:14] Completed epoch 99: None\n",
      "[17:02:15] Completed epoch 100: None\n"
     ]
    }
   ],
   "source": [
    "env.train(\n",
    "    trainee=agent,\n",
    "    continuation_probability=1,\n",
    "    limit=250,\n",
    "    noise=0,\n",
    "    repetitions=100,\n",
    "    epochs=100,\n",
    ")"
   ]
  },
  {
   "cell_type": "code",
   "execution_count": 5,
   "metadata": {},
   "outputs": [
    {
     "name": "stdout",
     "output_type": "stream",
     "text": [
      "{<Action.COOPERATE: 0>: 2722184, <Action.DEFECT: 1>: 2277816}\n",
      "{<Action.COOPERATE: 0>: 0.5444368, <Action.DEFECT: 1>: 0.4555632}\n"
     ]
    }
   ],
   "source": [
    "print(env.counts)\n",
    "\n",
    "s = sum(env.counts.values())\n",
    "\n",
    "print({a: env.counts[a] / s for a in env.counts})"
   ]
  },
  {
   "cell_type": "code",
   "execution_count": 6,
   "metadata": {},
   "outputs": [
    {
     "data": {
      "image/png": "[encoded data removed]",
      "text/plain": [
       "<Figure size 720x432 with 1 Axes>"
      ]
     },
     "metadata": {
      "needs_background": "light"
     },
     "output_type": "display_data"
    }
   ],
   "source": [
    "plt.title(\"Rewards\")\n",
    "plt.plot(env.rewards)\n",
    "plt.xlim(left=0)\n",
    "plt.ylim(bottom=0)\n",
    "plt.show()"
   ]
  },
  {
   "cell_type": "code",
   "execution_count": 7,
   "metadata": {},
   "outputs": [
    {
     "data": {
      "image/png": "[encoded data removed]",
      "text/plain": [
       "<Figure size 720x432 with 1 Axes>"
      ]
     },
     "metadata": {
      "needs_background": "light"
     },
     "output_type": "display_data"
    }
   ],
   "source": [
    "N = 25\n",
    "\n",
    "plt.title(\"Rolling average of rewards\")\n",
    "plt.plot(np.convolve(env.rewards, np.ones(N), mode='valid') / N)\n",
    "plt.xlim(left=0)\n",
    "plt.ylim(bottom=0)\n",
    "plt.show()"
   ]
  },
  {
   "cell_type": "code",
   "execution_count": 8,
   "metadata": {},
   "outputs": [
    {
     "data": {
      "image/png": "[encoded data removed]",
      "text/plain": [
       "<Figure size 720x432 with 1 Axes>"
      ]
     },
     "metadata": {
      "needs_background": "light"
     },
     "output_type": "display_data"
    }
   ],
   "source": [
    "plt.title(\"Cumulative reward\")\n",
    "plt.plot(np.cumsum(env.rewards))\n",
    "plt.xlim(left=0)\n",
    "plt.ylim(bottom=0)\n",
    "plt.show()"
   ]
  },
  {
   "cell_type": "code",
   "execution_count": 9,
   "metadata": {},
   "outputs": [
    {
     "data": {
      "image/png": "[encoded data removed]",
      "text/plain": [
       "<Figure size 720x432 with 1 Axes>"
      ]
     },
     "metadata": {
      "needs_background": "light"
     },
     "output_type": "display_data"
    }
   ],
   "source": [
    "plt.title(\"Cumulative regret (vs cooperating)\")\n",
    "plt.plot(np.cumsum(3 - np.array(env.rewards)))\n",
    "plt.xlim(left=0)\n",
    "plt.ylim(bottom=0)\n",
    "plt.show()"
   ]
  },
  {
   "cell_type": "code",
   "execution_count": 10,
   "metadata": {},
   "outputs": [
    {
     "name": "stderr",
     "output_type": "stream",
     "text": [
      "100%|██████████| 961/961 [00:22<00:00, 43.02matches/s] "
     ]
    },
    {
     "name": "stdout",
     "output_type": "stream",
     "text": [
      "GraaskampAndKatzen        809                  5.078562000000001   \n",
      "Shubik                         801                  4.829480999999998   \n",
      "TidemanAndChieruzzi2    798                  5.996077999999998   \n",
      "Weiner                 792                  14.678677999999996  \n",
      "Borufsen                       791                  5.100016            \n",
      "SteinAndRapoport               785                  18.797611000000003  \n",
      "GenerousTFT                    778                  4.133113999999999   \n",
      "TidemanAndChieruzzi            778                  5.6897040000000025  \n",
      "Black              777                  6.630875000000001   \n",
      "OmegaTFT                       776                  5.5595669999999995  \n",
      "TitForTat                      773                  4.005747999999999   \n",
      "Davis                          770                  7.8917889999999975  \n",
      "TTFT                           770                  4.625595000000001   \n",
      "TFTT                           763                  4.233364            \n",
      "White              762                  5.255485999999999   \n",
      "Champion                       757                  33.470113999999995  \n",
      "Leyvraz                        757                  29.693445           \n",
      "Grudger                        753                  4.078809            \n",
      "Pavlov                         748                  4.092522000000001   \n",
      "Grofman                        745                  4.657337            \n",
      "GradualTFT                     745                  50.91607599999999   \n",
      "Harrington             739                  15.017901999999996  \n",
      "Nydegger                       736                  6.266956999999998   \n",
      "AllC                           698                  4.313206000000001   \n",
      "TabularLearnerTest             568                  2.8850200000000004  \n",
      "Joss                           517                  17.061408999999994  \n",
      "Tullock                        501                  15.587536999999998  \n",
      "Feld                           493                  26.524204000000005  \n",
      "RandomAgent                    490                  16.317721000000002  \n",
      "Downing                        479                  22.166397999999997  \n",
      "AllD                           457                  21.310833000000002  \n"
     ]
    },
    {
     "name": "stderr",
     "output_type": "stream",
     "text": [
      "\n"
     ]
    }
   ],
   "source": [
    "tournament = RoundRobinTournament(AGENTS, [agent])\n",
    "\n",
    "scores, times = tournament.play(\n",
    "    continuation_probability=0.99654, repetitions=20, jobs=12\n",
    ")\n",
    "\n",
    "results = [\n",
    "    (agent, round(sum(scores[agent]) / len(scores[agent])), sum(times[agent]))\n",
    "    for agent in scores\n",
    "]\n",
    "results.sort(key=lambda x: x[1], reverse=True)\n",
    "\n",
    "for c, score, time in results:\n",
    "    print(f\"{c.__name__:<30} {score:<20} {time:<20}\")\n"
   ]
  }
 ],
 "metadata": {
  "interpreter": {
   "hash": "6f774df9e68be78be8fedc92c8cad2f0688a777ad163558f0717eecbd1f23d05"
  },
  "kernelspec": {
   "display_name": "Python 3.9.9 ('climatehack')",
   "language": "python",
   "name": "python3"
  },
  "language_info": {
   "codemirror_mode": {
    "name": "ipython",
    "version": 3
   },
   "file_extension": ".py",
   "mimetype": "text/x-python",
   "name": "python",
   "nbconvert_exporter": "python",
   "pygments_lexer": "ipython3",
   "version": "3.9.9"
  },
  "orig_nbformat": 4
 },
 "nbformat": 4,
 "nbformat_minor": 2
}
