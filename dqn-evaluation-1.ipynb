{
 "cells": [
  {
   "cell_type": "code",
   "execution_count": 1,
   "metadata": {},
   "outputs": [],
   "source": [
    "from tournament.agents.constant import AllC, AllD\n",
    "from tournament.agents.pavlov import Pavlov\n",
    "from tournament.agents.q_learning.dqn import DeepQLearner\n",
    "from tournament.agents.tft import TFTT, GenerousTFT, TitForTat\n",
    "from tournament.environments.single import SingleRuleBasedAgentEnvironment\n",
    "from tournament.environments.multiple import MultipleRuleBasedAgentEnvironment\n",
    "from tournament.action import Action\n",
    "from tournament.agents.agents import AGENTS\n",
    "from tournament.agents.axelrod_first import (\n",
    "    Davis,\n",
    "    Downing,\n",
    "    Feld,\n",
    "    Grofman,\n",
    "    Grudger,\n",
    "    Joss,\n",
    "    Nydegger,\n",
    "    Shubik,\n",
    "    SteinAndRapoport,\n",
    "    TidemanAndChieruzzi,\n",
    "    Tullock,\n",
    ")\n",
    "from tournament.agents.tft import (\n",
    "    TFTT,\n",
    "    TTFT,\n",
    "    GenerousTFT,\n",
    "    GradualTFT,\n",
    "    OmegaTFT,\n",
    "    TitForTat,\n",
    ")\n",
    "from tournament.tournament import RoundRobinTournament\n",
    "\n",
    "import torch\n",
    "import torch.nn as nn\n",
    "import matplotlib.pyplot as plt\n",
    "import numpy as np\n",
    "\n",
    "# plt.rcParams[\"figure.figsize\"] = (20, 12)\n",
    "plt.rcParams[\"figure.figsize\"] = (10, 6)"
   ]
  },
  {
   "cell_type": "code",
   "execution_count": 2,
   "metadata": {},
   "outputs": [
    {
     "data": {
      "text/plain": [
       "QNetwork(\n",
       "  (flatten): Flatten(start_dim=1, end_dim=-1)\n",
       "  (layer1): Linear(in_features=8, out_features=64, bias=True)\n",
       "  (layer2): Linear(in_features=64, out_features=64, bias=True)\n",
       "  (layer3): Linear(in_features=64, out_features=2, bias=True)\n",
       ")"
      ]
     },
     "execution_count": 2,
     "metadata": {},
     "output_type": "execute_result"
    }
   ],
   "source": [
    "class QNetwork(nn.Module):\n",
    "    def __init__(self, lookback, n1=64):\n",
    "        super().__init__()\n",
    "\n",
    "        self.flatten = nn.Flatten()\n",
    "        self.layer1 = nn.Linear(2 * lookback, n1)\n",
    "        self.layer2 = nn.Linear(n1, n1)\n",
    "        self.layer3 = nn.Linear(n1, 2)\n",
    "\n",
    "        nn.init.kaiming_uniform_(self.layer1.weight, mode=\"fan_in\", nonlinearity=\"relu\")\n",
    "        nn.init.kaiming_uniform_(self.layer2.weight, mode=\"fan_in\", nonlinearity=\"relu\")\n",
    "        nn.init.kaiming_uniform_(self.layer3.weight, mode=\"fan_in\", nonlinearity=\"relu\")\n",
    "\n",
    "    def forward(self, x):\n",
    "        x = x.unsqueeze(dim=0)\n",
    "        x = self.flatten(x)\n",
    "        x = torch.relu(self.layer1(x))\n",
    "        x = torch.relu(self.layer2(x))\n",
    "        x = torch.relu(self.layer3(x))\n",
    "\n",
    "        return x\n",
    "\n",
    "class QLearningTest(DeepQLearner):\n",
    "    lookback = 4\n",
    "    epsilon = 0.2\n",
    "\n",
    "    def __init__(self):\n",
    "        super().__init__()\n",
    "\n",
    "        self._learning_rate = 0.001\n",
    "        self._discount_rate = 0.95\n",
    "        self._q_network = QNetwork(self.lookback)\n",
    "\n",
    "        try:\n",
    "            self._q_network.load_state_dict(torch.load(\"models/2022-03-15 00-46-08 (796.991935483871).pt\"))\n",
    "        except:\n",
    "            pass\n",
    "\n",
    "\n",
    "agent = QLearningTest()\n",
    "agent._q_network.eval()"
   ]
  },
  {
   "cell_type": "code",
   "execution_count": 4,
   "metadata": {},
   "outputs": [
    {
     "name": "stderr",
     "output_type": "stream",
     "text": [
      "100%|██████████| 961/961 [07:16<00:00,  2.20matches/s]"
     ]
    },
    {
     "name": "stdout",
     "output_type": "stream",
     "text": [
      "Borufsen                       805                  32.755993999999994  \n",
      "TTFT                           795                  27.79484800000001   \n",
      "TFTT                           788                  27.571765999999997  \n",
      "SecondByWhiteK72R              785                  32.920328000000005  \n",
      "SecondByGraaskampKatzen        784                  32.91872300000001   \n",
      "SteinAndRapoport               783                  85.34950900000001   \n",
      "SecondByBlackK83R              780                  39.857178           \n",
      "OmegaTFT                       775                  31.17649            \n",
      "Davis                          771                  44.683851000000004  \n",
      "Champion                       771                  152.59199900000002  \n",
      "TidemanAndChieruzzi            770                  32.120107000000004  \n",
      "SecondByWeiner                 769                  79.30880799999998   \n",
      "Grudger                        765                  25.809770999999998  \n",
      "Leyvraz                        764                  152.034582          \n",
      "Shubik                         756                  25.842686           \n",
      "GenerousTFT                    756                  25.176966999999998  \n",
      "SecondByTidemanAndChieruzzi    754                  37.057353000000006  \n",
      "TitForTat                      749                  24.507945999999997  \n",
      "Grofman                        749                  25.189715           \n",
      "GradualTFT                     748                  1184.141436         \n",
      "Pavlov                         740                  24.069991000000005  \n",
      "AllC                           735                  26.064447           \n",
      "Nydegger                       725                  34.875848000000005  \n",
      "SecondByHarrington             723                  189.966588          \n",
      "QLearningTest                  708                  259.53305600000004  \n",
      "Joss                           500                  233.362436          \n",
      "RandomAgent                    489                  149.345643          \n",
      "Tullock                        486                  236.68936100000002  \n",
      "Feld                           483                  243.92476000000002  \n",
      "AllD                           482                  277.09423400000003  \n",
      "Downing                        480                  279.896513          \n"
     ]
    },
    {
     "name": "stderr",
     "output_type": "stream",
     "text": [
      "\n"
     ]
    }
   ],
   "source": [
    "tournament = RoundRobinTournament(AGENTS, [agent])\n",
    "\n",
    "scores, times = tournament.play(\n",
    "    continuation_probability=0.99654, repetitions=100, jobs=12\n",
    ")\n",
    "\n",
    "results = [\n",
    "    (agent, round(sum(scores[agent]) / len(scores[agent])), sum(times[agent]))\n",
    "    for agent in scores\n",
    "]\n",
    "results.sort(key=lambda x: x[1], reverse=True)\n",
    "\n",
    "for c, score, time in results:\n",
    "    print(f\"{c.__name__:<30} {score:<20} {time:<20}\")\n"
   ]
  }
 ],
 "metadata": {
  "interpreter": {
   "hash": "6f774df9e68be78be8fedc92c8cad2f0688a777ad163558f0717eecbd1f23d05"
  },
  "kernelspec": {
   "display_name": "Python 3",
   "language": "python",
   "name": "python3"
  },
  "language_info": {
   "codemirror_mode": {
    "name": "ipython",
    "version": 3
   },
   "file_extension": ".py",
   "mimetype": "text/x-python",
   "name": "python",
   "nbconvert_exporter": "python",
   "pygments_lexer": "ipython3",
   "version": "3.9.9"
  }
 },
 "nbformat": 4,
 "nbformat_minor": 2
}
