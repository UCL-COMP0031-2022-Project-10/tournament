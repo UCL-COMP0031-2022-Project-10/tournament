{
 "cells": [
  {
   "cell_type": "code",
   "execution_count": 1,
   "metadata": {},
   "outputs": [],
   "source": [
    "from tournament.agents.constant import AllC, AllD\n",
    "from tournament.agents.pavlov import Pavlov\n",
    "from tournament.agents.q_learning.rnn import RNNQLearner\n",
    "from tournament.agents.tft import TFTT, GenerousTFT, TitForTat\n",
    "from tournament.environments.single import SingleRuleBasedAgentEnvironment\n",
    "from tournament.action import Action\n",
    "\n",
    "import torch\n",
    "import matplotlib.pyplot as plt\n",
    "\n",
    "plt.rcParams[\"figure.figsize\"] = (20, 12)"
   ]
  },
  {
   "cell_type": "code",
   "execution_count": 2,
   "metadata": {},
   "outputs": [],
   "source": [
    "env = SingleRuleBasedAgentEnvironment(TitForTat)"
   ]
  },
  {
   "cell_type": "code",
   "execution_count": 3,
   "metadata": {},
   "outputs": [],
   "source": [
    "class RNNQLearningTest(RNNQLearner):\n",
    "    \n",
    "    def __init__(self):\n",
    "        super().__init__()\n",
    "        self.lookback=3\n",
    "        self.epsilon = 0\n",
    "\n",
    "agent = RNNQLearner()"
   ]
  },
  {
   "cell_type": "code",
   "execution_count": 4,
   "metadata": {},
   "outputs": [
    {
     "name": "stdout",
     "output_type": "stream",
     "text": [
      "[12:58:06] Commencement of training.\n",
      "[12:59:41] Completed epoch 1: 0.35248533432853235\n"
     ]
    }
   ],
   "source": [
    "env.train(\n",
    "    trainee=agent,\n",
    "    continuation_probability=1,\n",
    "    limit=200,\n",
    "    noise=0,\n",
    "    repetitions=200,\n",
    "    epochs=1\n",
    ")"
   ]
  }
 ],
 "metadata": {
  "kernelspec": {
   "display_name": "Python 3",
   "language": "python",
   "name": "python3"
  },
  "language_info": {
   "codemirror_mode": {
    "name": "ipython",
    "version": 3
   },
   "file_extension": ".py",
   "mimetype": "text/x-python",
   "name": "python",
   "nbconvert_exporter": "python",
   "pygments_lexer": "ipython3",
   "version": "3.7.4"
  }
 },
 "nbformat": 4,
 "nbformat_minor": 2
}
